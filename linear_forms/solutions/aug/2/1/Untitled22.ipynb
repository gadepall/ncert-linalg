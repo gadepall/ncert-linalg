{
  "nbformat": 4,
  "nbformat_minor": 0,
  "metadata": {
    "colab": {
      "name": "Untitled22.ipynb",
      "provenance": [],
      "authorship_tag": "ABX9TyPwW+QegCGXL7OU8NEUiB9Y",
      "include_colab_link": true
    },
    "kernelspec": {
      "name": "python3",
      "display_name": "Python 3"
    },
    "language_info": {
      "name": "python"
    }
  },
  "cells": [
    {
      "cell_type": "markdown",
      "metadata": {
        "id": "view-in-github",
        "colab_type": "text"
      },
      "source": [
        "<a href=\"https://colab.research.google.com/github/Vallidevibolla/Assignment-4/blob/main/Untitled22.ipynb\" target=\"_parent\"><img src=\"https://colab.research.google.com/assets/colab-badge.svg\" alt=\"Open In Colab\"/></a>"
      ]
    },
    {
      "cell_type": "code",
      "metadata": {
        "colab": {
          "base_uri": "https://localhost:8080/",
          "height": 302
        },
        "id": "LEJuw1IRXdWE",
        "outputId": "d3e03739-9a70-4644-c9e3-8f66ea04f679"
      },
      "source": [
        "import numpy as np\n",
        "import matplotlib.pyplot as plt\n",
        "\n",
        "plt.axis([4,8,4,8])\n",
        "\n",
        "plt.axis('on')\n",
        "\n",
        "\n",
        "#if using termux\n",
        "import subprocess\n",
        "import shlex\n",
        "#end if\n",
        "\n",
        "# import the math module \n",
        "import math \n",
        "  \n",
        "# print the square root of 0\n",
        "print(math.sqrt(0)) \n",
        "\n",
        "#Inputs\n",
        "n = np.array([1,-2]) \n",
        "c = 4\n",
        "\n",
        "e1 = np.array([0,2]) \n",
        "e2 = np.array([4,0]) \n",
        "e3 = np.array([2,0]) \n",
        "e4 = np.array([np.sqrt(2),4*np.sqrt(2)]) \n",
        "e5 = np.array([1,1]) \n",
        "\n",
        "A = c*e1/(n@e1)\n",
        "B = c*e2/(n@e2)\n",
        "C = c*e3/(n@e3)\n",
        "D = c*e4/(n@e4)\n",
        "E = c*e5/(n@e5)\n",
        "\n",
        "\n",
        "def line_gen(A,B):\n",
        "  len =10\n",
        "  dim = A.shape[0]\n",
        "  x_AB = np.zeros((dim,len))\n",
        "  lam_1 = np.linspace(0,1,len)\n",
        "  for i in range(len):\n",
        "    temp1 = A + lam_1[i]*(B-A)\n",
        "    x_AB[:,i]= temp1.T\n",
        "  return x_AB\n",
        "\n",
        "#Generating all lines\n",
        "x_AB = line_gen(A,B)\n",
        "\n",
        "#Plotting all lines\n",
        "plt.plot(x_AB[0,:],x_AB[1,:],label='$AB$')\n",
        "plt.plot(0,2,'o')\n",
        "plt.plot(4,0,'o')\n",
        "plt.plot(2,0,'o')\n",
        "plt.plot(1.4,5.65,'o')\n",
        "plt.plot(1,1,'o')\n",
        "\n",
        "\n",
        "plt.xlabel('$x-axis$')\n",
        "plt.ylabel('$y-axis$')\n",
        "\n",
        "\n",
        "plt.text(0,2, 'A(0,2)')\n",
        "plt.text(4,0, 'B(4,0)')\n",
        "plt.text(2,0, 'C(2,0)')\n",
        "plt.text(1.4,5.65, 'D(1.4,5.65)')\n",
        "plt.text(1,1, 'E(1,1)')\n",
        "plt.legend(loc='best')\n",
        "plt.grid() # minor\n",
        "plt.axis('equal')\n",
        "\n",
        "plt.show()\n"
      ],
      "execution_count": 6,
      "outputs": [
        {
          "output_type": "stream",
          "text": [
            "0.0\n"
          ],
          "name": "stdout"
        },
        {
          "output_type": "display_data",
          "data": {
            "image/png": "[encoded data removed]",
            "text/plain": [
              "<Figure size 432x288 with 1 Axes>"
            ]
          },
          "metadata": {
            "needs_background": "light"
          }
        }
      ]
    }
  ]
}