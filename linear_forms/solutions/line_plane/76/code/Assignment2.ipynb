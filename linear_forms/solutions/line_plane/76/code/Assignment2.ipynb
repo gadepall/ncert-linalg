{
 "cells": [
  {
   "cell_type": "code",
   "execution_count": 4,
   "metadata": {},
   "outputs": [
    {
     "name": "stdout",
     "output_type": "stream",
     "text": [
      "Angle between the two line in degrees is:\n",
      "90.0\n"
     ]
    }
   ],
   "source": [
    "import numpy as np\n",
    "#verification\n",
    "a = np.array([7, -5, 1])\n",
    "b = np.array([1, 2, 3])\n",
    "theta = np.arccos(np.dot(a,b)/(np.linalg.norm(a)*np.linalg.norm(b)))\n",
    "print(\"Angle between the two line in degrees is:\")\n",
    "print(np.degrees(theta))"
   ]
  }
 ],
 "metadata": {
  "kernelspec": {
   "display_name": "Python 3",
   "language": "python",
   "name": "python3"
  },
  "language_info": {
   "codemirror_mode": {
    "name": "ipython",
    "version": 3
   },
   "file_extension": ".py",
   "mimetype": "text/x-python",
   "name": "python",
   "nbconvert_exporter": "python",
   "pygments_lexer": "ipython3",
   "version": "3.8.1"
  }
 },
 "nbformat": 4,
 "nbformat_minor": 4
}
