{
 "cells": [
  {
   "cell_type": "code",
   "execution_count": 1,
   "metadata": {},
   "outputs": [
    {
     "name": "stdout",
     "output_type": "stream",
     "text": [
      "Infinite solution\n"
     ]
    }
   ],
   "source": [
    "#! /usr/bin/python3\n",
    "import numpy as np\n",
    "\n",
    "a=5\n",
    "b=1\n",
    "p = a-b\n",
    "q= a+b\n",
    "r = 3*a+b-2\n",
    "full_rank=2\n",
    "a = np.array([[2,3],\n",
    "            [p,q]])  #Coefficient Matrix                \n",
    "b = np.array([[7],[r]])\n",
    "c = np.concatenate((a,b), axis=1)     #Augmented Matrix\n",
    "\n",
    "Rank_A=np.linalg.matrix_rank(a)\n",
    "Rank_B=np.linalg.matrix_rank(c)    \n",
    "#print(Rank_A)\n",
    "#print(Rank_B)\n",
    "#For Infinite  solution if rank(Coefficient matrix)  equal to rank(Augmented matrix) and it should be less than full rank\n",
    "if ((Rank_A == Rank_B)<(full_rank)):\n",
    "    print(\"Infinite solution\" )"
   ]
  },
  {
   "cell_type": "code",
   "execution_count": null,
   "metadata": {},
   "outputs": [],
   "source": []
  }
 ],
 "metadata": {
  "kernelspec": {
   "display_name": "Python 3",
   "language": "python",
   "name": "python3"
  },
  "language_info": {
   "codemirror_mode": {
    "name": "ipython",
    "version": 3
   },
   "file_extension": ".py",
   "mimetype": "text/x-python",
   "name": "python",
   "nbconvert_exporter": "python",
   "pygments_lexer": "ipython3",
   "version": "3.8.3"
  }
 },
 "nbformat": 4,
 "nbformat_minor": 4
}
