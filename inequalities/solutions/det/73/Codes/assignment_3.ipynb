{
 "cells": [
  {
   "cell_type": "code",
   "execution_count": 14,
   "metadata": {},
   "outputs": [
    {
     "name": "stdout",
     "output_type": "stream",
     "text": [
      "LHS is  144.0\n",
      "RHS is  144.0\n",
      "LHS = RHS, Hence proved.\n"
     ]
    }
   ],
   "source": [
    "import numpy as np\n",
    "\n",
    "#initialising the values of a=1, b=2, c=3 for verification\n",
    "a=1\n",
    "b=2\n",
    "c=3\n",
    "determinant = np.array([[a*a,b*c,(a*c+c*c)],[a*a + a*b,b*b,a*c],[a*b,b*b+b*c,c*c]])\n",
    "\n",
    "#finding the determinant\n",
    "lhs = np.linalg.det(determinant)\n",
    "\n",
    "#Finding the RHS\n",
    "rhs = float(4*(a*a)*(b*b)*(c*c))\n",
    "\n",
    "\n",
    "print(\"LHS is \", lhs)\n",
    "print(\"RHS is \", rhs)\n",
    "\n",
    "if lhs==rhs :\n",
    "    print(\"LHS = RHS, Hence proved.\")\n",
    "\n",
    "\n"
   ]
  }
 ],
 "metadata": {
  "kernelspec": {
   "display_name": "Python 3",
   "language": "python",
   "name": "python3"
  },
  "language_info": {
   "codemirror_mode": {
    "name": "ipython",
    "version": 3
   },
   "file_extension": ".py",
   "mimetype": "text/x-python",
   "name": "python",
   "nbconvert_exporter": "python",
   "pygments_lexer": "ipython3",
   "version": "3.8.3"
  }
 },
 "nbformat": 4,
 "nbformat_minor": 4
}
