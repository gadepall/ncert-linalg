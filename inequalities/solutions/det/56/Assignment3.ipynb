{
 "cells": [
  {
   "cell_type": "code",
   "execution_count": 4,
   "metadata": {},
   "outputs": [
    {
     "name": "stdout",
     "output_type": "stream",
     "text": [
      "The system of equations are inconsistent\n"
     ]
    }
   ],
   "source": [
    "#The motive of this code is to examine the consistency of system of given equations\n",
    "#Equations\n",
    "#3x-y-2z=2\n",
    "#2y-z=-1\n",
    "#3x-5y=3 \n",
    "import numpy as np\n",
    "def rrechelon(a):\n",
    "    a = np.array(a,float)\n",
    "    m = len(a)        #number of rows \n",
    "    n = len(a[0])     #number of columns \n",
    "    \n",
    "    #main loop\n",
    "    for k in range(m):\n",
    "        #partial pivoting \n",
    "        if np.fabs(a[k,k]) < 1.0e-12:\n",
    "            for i in range(k+1,m):\n",
    "                if np.fabs(a[i,k]) > np.fabs(a[k,k]):\n",
    "                    for j in range(k,n):\n",
    "                        a[k,j],a[i,j] = a[i,j],a[k,j]\n",
    "                        break\n",
    "        #dividing pivot row\n",
    "        pivot = a[k,k]\n",
    "        for j in range(k,n):\n",
    "            if pivot!=0:\n",
    "                a[k,j] = a[k,j]/pivot\n",
    "            \n",
    "        #elimination loop\n",
    "        for i in range(m):\n",
    "            if i <= k or a[i,k] == 0:\n",
    "                continue\n",
    "            factor = a[i,k]\n",
    "            for j in range(k,n):\n",
    "                a[i,j] = a[i,j]-factor*a[k,j]\n",
    "    return(a)\n",
    "a = np.array([[3,-1,-2],[0,2,-1],[3,-5,0]])\n",
    "b = np.array([[3,-1,-2,2],[0,2,-1,-1],[3,-5,0,3]])\n",
    "A = rrechelon(a)\n",
    "B = rrechelon(b)\n",
    "r_A = np.linalg.matrix_rank(A)\n",
    "r_B = np.linalg.matrix_rank(B)\n",
    "if r_A != r_B:\n",
    "    print('The system of equations are inconsistent')\n",
    "else:\n",
    "    print('The system of equations are consistent')\n"
   ]
  },
  {
   "cell_type": "code",
   "execution_count": null,
   "metadata": {},
   "outputs": [],
   "source": []
  }
 ],
 "metadata": {
  "kernelspec": {
   "display_name": "Python 2",
   "language": "python",
   "name": "python2"
  },
  "language_info": {
   "codemirror_mode": {
    "name": "ipython",
    "version": 2
   },
   "file_extension": ".py",
   "mimetype": "text/x-python",
   "name": "python",
   "nbconvert_exporter": "python",
   "pygments_lexer": "ipython2",
   "version": "2.7.15"
  }
 },
 "nbformat": 4,
 "nbformat_minor": 2
}
