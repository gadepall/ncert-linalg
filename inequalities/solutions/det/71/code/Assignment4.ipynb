{
 "cells": [
  {
   "cell_type": "code",
   "execution_count": 1,
   "metadata": {},
   "outputs": [
    {
     "name": "stdout",
     "output_type": "stream",
     "text": [
      "Determinant is  0.0 , when a+b+c=0\n",
      "Determinant is  0.0 , when a=b=c\n"
     ]
    }
   ],
   "source": [
    "import numpy as np\n",
    "import math\n",
    "\n",
    "# proof1: a+b+c = 0, check if determinant is zero\n",
    "a = 2\n",
    "b = -1\n",
    "c = -1\n",
    "matrix1 = np.array([[b+c,c+a,a+b],[c+a,a+b,b+c],[a+b,b+c,c+a]])\n",
    "det=np.linalg.det(matrix1)\n",
    "print('Determinant is ', det, ', when a+b+c=0')\n",
    "\n",
    "a1 = 2\n",
    "b1 = 2\n",
    "c1= 2\n",
    "matrix2 = np.array([[b1+c1,c1+a1,a1+b1],[c1+a1,a1+b1,b1+c1],[a1+b1,b1+c1,c1+a1]])\n",
    "det1=np.linalg.det(matrix2)\n",
    "print('Determinant is ', det1, ', when a=b=c')"
   ]
  }
 ],
 "metadata": {
  "kernelspec": {
   "display_name": "Python 3",
   "language": "python",
   "name": "python3"
  },
  "language_info": {
   "codemirror_mode": {
    "name": "ipython",
    "version": 3
   },
   "file_extension": ".py",
   "mimetype": "text/x-python",
   "name": "python",
   "nbconvert_exporter": "python",
   "pygments_lexer": "ipython3",
   "version": "3.8.1"
  }
 },
 "nbformat": 4,
 "nbformat_minor": 4
}
