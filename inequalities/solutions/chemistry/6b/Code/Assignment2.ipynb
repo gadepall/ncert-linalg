{
 "cells": [
  {
   "cell_type": "code",
   "execution_count": 48,
   "metadata": {},
   "outputs": [
    {
     "name": "stdout",
     "output_type": "stream",
     "text": [
      "(Matrix([\n",
      "[1, 0, 0,   -1],\n",
      "[0, 1, 0, -1/2],\n",
      "[0, 0, 1, -1/2],\n",
      "[0, 0, 0,    0]]), (0, 1, 2))\n",
      "Given Chemical Reaction is balanced\n"
     ]
    }
   ],
   "source": [
    "#Program to check whether the given chemical equation is balanced.\n",
    "# 2NaOH + H_2SO_4 -> Na_2SO_4  +  2H_2O\n",
    "import numpy as np\n",
    "import sympy\n",
    "from sympy.matrices import Matrix\n",
    "#if using termux\n",
    "import subprocess\n",
    "import shlex\n",
    "#end if\n",
    "\n",
    "#Coefficient Matrix\n",
    "A = np.array([[1,2,0,-2],[1,0,-2,0],[0,1,-1,0], [1,4,-4,-1]]) \n",
    "#Row reduced echelon form\n",
    "B = sympy.Matrix(A).rref()\n",
    "print(B)\n",
    "#Multplier vector\n",
    "m = Matrix([2,1,1,2])\n",
    "        \n",
    "#Now if Bm^T =0, That means our chemical equation is balanced\n",
    "if((B[0]*m)==Matrix([0,0,0,0])):\n",
    "    print(\"Given Chemical Reaction is balanced\")\n"
   ]
  },
  {
   "cell_type": "code",
   "execution_count": null,
   "metadata": {},
   "outputs": [],
   "source": []
  },
  {
   "cell_type": "code",
   "execution_count": null,
   "metadata": {},
   "outputs": [],
   "source": []
  }
 ],
 "metadata": {
  "kernelspec": {
   "display_name": "Python 3",
   "language": "python",
   "name": "python3"
  },
  "language_info": {
   "codemirror_mode": {
    "name": "ipython",
    "version": 3
   },
   "file_extension": ".py",
   "mimetype": "text/x-python",
   "name": "python",
   "nbconvert_exporter": "python",
   "pygments_lexer": "ipython3",
   "version": "3.6.5"
  }
 },
 "nbformat": 4,
 "nbformat_minor": 2
}
