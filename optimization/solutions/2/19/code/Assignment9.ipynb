{
 "cells": [
  {
   "cell_type": "code",
   "execution_count": 6,
   "metadata": {},
   "outputs": [
    {
     "name": "stdout",
     "output_type": "stream",
     "text": [
      "Multiplication of Q and R is :\n",
      " [[ 1.  2.]\n",
      " [ 2. -2.]]\n"
     ]
    }
   ],
   "source": [
    "import numpy as np\n",
    "#orthogonal matrix\n",
    "Q = np.array([[1/np.sqrt(5), 2/np.sqrt(5)],[2/np.sqrt(5), -1/np.sqrt(5)]])\n",
    "#Upper triangular matrix\n",
    "R = np.array([[np.sqrt(5), -2/np.sqrt(5)],[0, 6/np.sqrt(5)]])\n",
    "#Original matrix\n",
    "A = Q@R\n",
    "print(\"Multiplication of Q and R is :\\n\",A)"
   ]
  }
 ],
 "metadata": {
  "kernelspec": {
   "display_name": "Python 3",
   "language": "python",
   "name": "python3"
  },
  "language_info": {
   "codemirror_mode": {
    "name": "ipython",
    "version": 3
   },
   "file_extension": ".py",
   "mimetype": "text/x-python",
   "name": "python",
   "nbconvert_exporter": "python",
   "pygments_lexer": "ipython3",
   "version": "3.8.1"
  }
 },
 "nbformat": 4,
 "nbformat_minor": 4
}
