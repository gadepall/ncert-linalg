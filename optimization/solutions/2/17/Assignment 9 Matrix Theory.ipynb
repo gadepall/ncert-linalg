{
 "cells": [
  {
   "cell_type": "code",
   "execution_count": 1,
   "metadata": {},
   "outputs": [],
   "source": [
    "# importing the libraries \n",
    "import numpy as np "
   ]
  },
  {
   "cell_type": "code",
   "execution_count": 20,
   "metadata": {},
   "outputs": [
    {
     "name": "stdout",
     "output_type": "stream",
     "text": [
      "Given matrix A : \n",
      " [[ 4.  3.]\n",
      " [ 5. -2.]]\n"
     ]
    }
   ],
   "source": [
    "# given matrix is A \n",
    "A=np.array([[4.,3.],[5.,-2.]])\n",
    "print(\"Given matrix A : \\n\",A)"
   ]
  },
  {
   "cell_type": "code",
   "execution_count": 21,
   "metadata": {},
   "outputs": [
    {
     "name": "stdout",
     "output_type": "stream",
     "text": [
      "Orthogonal Matrix Q :\n",
      " [[ 0.62469505  0.78086881]\n",
      " [ 0.78086881 -0.62469505]]\n",
      "\n",
      "Upper Triangular Matrix R : \n",
      " [[6.40312424 0.31234752]\n",
      " [0.         3.59199652]]\n"
     ]
    }
   ],
   "source": [
    "Q=np.array([[4/np.sqrt(41),5/np.sqrt(41)],[5/np.sqrt(41),-4/np.sqrt(41)]])\n",
    "R=np.array([[np.sqrt(41),2/np.sqrt(41)],[0,23/np.sqrt(41)]])\n",
    "print(\"Orthogonal Matrix Q :\\n\",Q)\n",
    "print(\"\\nUpper Triangular Matrix R : \\n\",R)"
   ]
  },
  {
   "cell_type": "code",
   "execution_count": 22,
   "metadata": {},
   "outputs": [
    {
     "data": {
      "text/plain": [
       "array([[ 4.,  3.],\n",
       "       [ 5., -2.]])"
      ]
     },
     "execution_count": 22,
     "metadata": {},
     "output_type": "execute_result"
    }
   ],
   "source": [
    "#QR Decomposition is given by \n",
    "Q@R"
   ]
  }
 ],
 "metadata": {
  "kernelspec": {
   "display_name": "Python 3",
   "language": "python",
   "name": "python3"
  },
  "language_info": {
   "codemirror_mode": {
    "name": "ipython",
    "version": 3
   },
   "file_extension": ".py",
   "mimetype": "text/x-python",
   "name": "python",
   "nbconvert_exporter": "python",
   "pygments_lexer": "ipython3",
   "version": "3.7.3"
  }
 },
 "nbformat": 4,
 "nbformat_minor": 2
}
