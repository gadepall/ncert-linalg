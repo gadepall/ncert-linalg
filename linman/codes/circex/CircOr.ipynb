{
 "cells": [
  {
   "cell_type": "code",
   "execution_count": 1,
   "id": "polished-airplane",
   "metadata": {},
   "outputs": [
    {
     "data": {
      "image/png": "[encoded data removed]",
      "text/plain": [
       "<Figure size 432x288 with 1 Axes>"
      ]
     },
     "metadata": {
      "needs_background": "light"
     },
     "output_type": "display_data"
    }
   ],
   "source": [
    "#Code by GVV Sharma\n",
    "#August 8, 2020\n",
    "#released under GNU GPL\n",
    "#Drawing a circle given two points\n",
    "#and the line passing through the centre\n",
    "\n",
    "import numpy as np\n",
    "import matplotlib.pyplot as plt\n",
    "from numpy import linalg as LA\n",
    "\n",
    "import sys                                          #for path to external scripts\n",
    "sys.path.insert(0, '/storage/emulated/0/github/ncert/linalg/linman/codes/CoordGeo')        #path to my scripts\n",
    "#sys.path.insert(0, '/storage/emulated/0/tlc/school/ncert/linman/codes/CoordGeo')        #path to my scripts\n",
    "\n",
    "#local imports\n",
    "from line.funcs import *\n",
    "from triangle.funcs import *\n",
    "from conics.funcs import circ_gen\n",
    "\n",
    "#if using termux\n",
    "import subprocess\n",
    "import shlex\n",
    "#end if\n",
    "\n",
    "#Input parameters\n",
    "O = 0.1*np.array(([7,13]))\n",
    "P = np.array(([2,-2]))\n",
    "Q = np.array(([3,4]))\n",
    "f = -52/5\n",
    "r = np.sqrt(LA.norm(O)**2-f)\n",
    "m = np.array(([1,-1]))\n",
    "A = np.array(([2,0]))\n",
    "k1 = 2\n",
    "k2 = -2\n",
    "##Generating all lines\n",
    "x_AB = line_dir_pt(m,A,k1,k2)\n",
    "\n",
    "##Generating the circle\n",
    "x_circ= circ_gen(O,r)\n",
    "\n",
    "#Plotting all lines\n",
    "plt.plot(x_AB[0,:],x_AB[1,:],label='$x+y=2$')\n",
    "\n",
    "#Plotting the circle\n",
    "plt.plot(x_circ[0,:],x_circ[1,:],label='$circle$')\n",
    "\n",
    "\n",
    "#Labeling the coordinates\n",
    "tri_coords = np.vstack((P,Q,O)).T\n",
    "plt.scatter(tri_coords[0,:], tri_coords[1,:])\n",
    "vert_labels = ['P','Q','O']\n",
    "for i, txt in enumerate(vert_labels):\n",
    "    plt.annotate(txt, # this is the text\n",
    "                 (tri_coords[0,i], tri_coords[1,i]), # this is the point to label\n",
    "                 textcoords=\"offset points\", # how to position the text\n",
    "                 xytext=(0,10), # distance from text to points (x,y)\n",
    "                 ha='center') # horizontal alignment can be left, right or center\n",
    "\n",
    "plt.xlabel('$x$')\n",
    "plt.ylabel('$y$')\n",
    "plt.legend(loc='best')\n",
    "plt.grid() # minor\n",
    "plt.axis('equal')\n",
    "\n",
    "#if using termux\n",
    "# plt.savefig('./figs/circex/CircOr.pdf')\n",
    "# plt.savefig('./figs/circex/CircOr.png')\n",
    "# subprocess.run(shlex.split(\"termux-open ./figs/circex/CircOr.pdf\"))\n",
    "#else\n",
    "plt.show()\n",
    "\n",
    "\n",
    "\n",
    "\n",
    "\n",
    "\n",
    "\n"
   ]
  },
  {
   "cell_type": "code",
   "execution_count": null,
   "id": "selective-trouble",
   "metadata": {},
   "outputs": [],
   "source": []
  },
  {
   "cell_type": "code",
   "execution_count": null,
   "id": "enhanced-beverage",
   "metadata": {},
   "outputs": [],
   "source": []
  }
 ],
 "metadata": {
  "kernelspec": {
   "display_name": "Python 3",
   "language": "python",
   "name": "python3"
  },
  "language_info": {
   "codemirror_mode": {
    "name": "ipython",
    "version": 3
   },
   "file_extension": ".py",
   "mimetype": "text/x-python",
   "name": "python",
   "nbconvert_exporter": "python",
   "pygments_lexer": "ipython3",
   "version": "3.8.5"
  }
 },
 "nbformat": 4,
 "nbformat_minor": 5
}
