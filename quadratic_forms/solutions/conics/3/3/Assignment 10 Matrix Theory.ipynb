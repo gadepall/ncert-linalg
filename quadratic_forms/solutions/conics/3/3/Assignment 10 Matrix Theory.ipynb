{
 "cells": [
  {
   "cell_type": "code",
   "execution_count": 32,
   "metadata": {},
   "outputs": [],
   "source": [
    "#importing the libraries\n",
    "import numpy as np\n",
    "import matplotlib.pyplot as plt\n",
    "from numpy.linalg import inv\n",
    "from numpy import linalg as LA"
   ]
  },
  {
   "cell_type": "code",
   "execution_count": 33,
   "metadata": {},
   "outputs": [
    {
     "name": "stdout",
     "output_type": "stream",
     "text": [
      "Matrix M : \n",
      " [[ 3 -1]\n",
      " [ 2 -2]\n",
      " [ 6 -2]]\n",
      "\n",
      "Matrix b:\n",
      " [[ 5]\n",
      " [-1]\n",
      " [-1]]\n"
     ]
    }
   ],
   "source": [
    "M=np.matrix('3 -1; 2 -2; 6 -2')\n",
    "b=np.matrix('5; -1; -1')\n",
    "print(\"Matrix M : \\n\",M)\n",
    "print(\"\\nMatrix b:\\n\",b)"
   ]
  },
  {
   "cell_type": "code",
   "execution_count": 34,
   "metadata": {},
   "outputs": [
    {
     "data": {
      "text/plain": [
       "(3, 2)"
      ]
     },
     "execution_count": 34,
     "metadata": {},
     "output_type": "execute_result"
    }
   ],
   "source": [
    "#SVD, M=USV^T\n",
    "U, s, V=LA.svd(M)\n",
    "#Find size of M\n",
    "M.shape"
   ]
  },
  {
   "cell_type": "code",
   "execution_count": 35,
   "metadata": {},
   "outputs": [
    {
     "name": "stdout",
     "output_type": "stream",
     "text": [
      "[[ 3. -1.]\n",
      " [ 2. -2.]\n",
      " [ 6. -2.]]\n",
      "Therefore M=USV^T\n"
     ]
    }
   ],
   "source": [
    "#Creating the singular matrix\n",
    "S = np.zeros(M.shape)\n",
    "Sinv = S.T\n",
    "S[:2,:2] = np.diag(s)\n",
    "#Verifying the SVD, A=USV\n",
    "print(U.dot(S).dot(V.T))\n",
    "print(\"Therefore M=USV^T\")"
   ]
  },
  {
   "cell_type": "code",
   "execution_count": 36,
   "metadata": {},
   "outputs": [
    {
     "name": "stdout",
     "output_type": "stream",
     "text": [
      "[[0.55]\n",
      " [1.05]]\n"
     ]
    }
   ],
   "source": [
    "#Inverting s\n",
    "sinv = 1./s\n",
    "#Inverse transpose of S\n",
    "Sinv[:2,:2] = np.diag(sinv)\n",
    "#Moore-Penrose Pseudoinverse\n",
    "a1=U.T.dot(b)\n",
    "a2=Sinv.dot(x)\n",
    "#Least squares solution\n",
    "xls=V.dot(a2)#\n",
    "print(xls)"
   ]
  },
  {
   "cell_type": "code",
   "execution_count": 37,
   "metadata": {},
   "outputs": [
    {
     "data": {
      "text/plain": [
       "matrix([[-0.92870863,  0.37081031],\n",
       "        [ 0.37081031,  0.92870863]])"
      ]
     },
     "execution_count": 37,
     "metadata": {},
     "output_type": "execute_result"
    }
   ],
   "source": [
    "V"
   ]
  },
  {
   "cell_type": "code",
   "execution_count": null,
   "metadata": {},
   "outputs": [],
   "source": []
  }
 ],
 "metadata": {
  "kernelspec": {
   "display_name": "Python 3",
   "language": "python",
   "name": "python3"
  },
  "language_info": {
   "codemirror_mode": {
    "name": "ipython",
    "version": 3
   },
   "file_extension": ".py",
   "mimetype": "text/x-python",
   "name": "python",
   "nbconvert_exporter": "python",
   "pygments_lexer": "ipython3",
   "version": "3.7.3"
  }
 },
 "nbformat": 4,
 "nbformat_minor": 2
}
