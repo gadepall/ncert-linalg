{
  "nbformat": 4,
  "nbformat_minor": 0,
  "metadata": {
    "colab": {
      "name": "A8.ipynb",
      "provenance": []
    },
    "kernelspec": {
      "name": "python3",
      "display_name": "Python 3"
    }
  },
  "cells": [
    {
      "cell_type": "code",
      "metadata": {
        "id": "SbETDLZkHBE3",
        "outputId": "55eeae19-5c82-4676-f429-3658b678c8f4",
        "colab": {
          "base_uri": "https://localhost:8080/",
          "height": 355
        }
      },
      "source": [
        "# QR Decomposition   \n",
        "import numpy as np\n",
        "A=np.array([[4.,-3.],[6.,-2.]])\n",
        "print(\"Given matrix A is: \\n\",A)\n",
        "Q,R=np.linalg.qr(A)\n",
        "print(\"\\nOrthogonal Matrix Q is :\\n\",Q)\n",
        "#Verification Q^TQ=I\n",
        "print(\"\\nQ^TQ:\\n\",Q.T@Q)\n",
        "\n",
        "print(\"\\nUpper Triangular Matrix R is: \\n\",R)\n",
        "print(\"\\nA=QR=\\n\",Q@R)"
      ],
      "execution_count": 13,
      "outputs": [
        {
          "output_type": "stream",
          "text": [
            "Given matrix A is: \n",
            " [[ 4. -3.]\n",
            " [ 6. -2.]]\n",
            "\n",
            "Orthogonal Matrix Q is :\n",
            " [[-0.5547002  -0.83205029]\n",
            " [-0.83205029  0.5547002 ]]\n",
            "\n",
            "Q^TQ:\n",
            " [[ 1.0000000e+00 -1.0499512e-17]\n",
            " [-1.0499512e-17  1.0000000e+00]]\n",
            "\n",
            "Upper Triangular Matrix R is: \n",
            " [[-7.21110255  3.32820118]\n",
            " [ 0.          1.38675049]]\n",
            "\n",
            "A=QR=\n",
            " [[ 4. -3.]\n",
            " [ 6. -2.]]\n"
          ],
          "name": "stdout"
        }
      ]
    }
  ]
}