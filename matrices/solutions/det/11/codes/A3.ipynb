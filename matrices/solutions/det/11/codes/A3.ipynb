{
  "nbformat": 4,
  "nbformat_minor": 0,
  "metadata": {
    "colab": {
      "name": "A3.ipynb",
      "provenance": []
    },
    "kernelspec": {
      "name": "python3",
      "display_name": "Python 3"
    }
  },
  "cells": [
    {
      "cell_type": "code",
      "metadata": {
        "id": "USECz4vfB7NC",
        "colab_type": "code",
        "colab": {
          "base_uri": "https://localhost:8080/",
          "height": 35
        },
        "outputId": "85bbe1bb-f3c8-45c3-a355-3926b0efe93a"
      },
      "source": [
        "import numpy as np\n",
        "import math\n",
        "\n",
        "a = 2\n",
        "b = 7\n",
        "c = 65\n",
        "d = 3\n",
        "e = 8\n",
        "f = 75\n",
        "g = 5\n",
        "h = 9\n",
        "i = 86\n",
        "\n",
        "matrix1 = np.array([[a,b,c],[d,e,f],[g,h,i]])\n",
        "det=np.linalg.det(matrix1)\n",
        "print('Determinant is ', det)"
      ],
      "execution_count": 3,
      "outputs": [
        {
          "output_type": "stream",
          "text": [
            "Determinant is  0.0\n"
          ],
          "name": "stdout"
        }
      ]
    }
  ]
}