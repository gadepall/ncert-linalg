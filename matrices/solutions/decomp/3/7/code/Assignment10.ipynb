{
 "cells": [
  {
   "cell_type": "code",
   "execution_count": 3,
   "metadata": {},
   "outputs": [
    {
     "name": "stdout",
     "output_type": "stream",
     "text": [
      "[[ 0.77777778]\n",
      " [-0.88888889]]\n"
     ]
    }
   ],
   "source": [
    "import numpy as np\n",
    "from numpy.linalg import inv\n",
    "from numpy import linalg as LA\n",
    "\n",
    "M = np.array([[1,0],[0,1],[-1,1/2]])\n",
    "b = np.array([[3],[-2],[1]])\n",
    "\n",
    "#Singular Value Decomposition\n",
    "U, s, V=LA.svd(M)\n",
    "\n",
    "# Diagonalizing S\n",
    "S = np.zeros(M.shape)\n",
    "Sinv = S.T\n",
    "S[:2,:2] = np.diag(s)\n",
    "sinv = 1./s\n",
    "\n",
    "#Inverse transpose of S (Moore Penrose Pseudo Inverse)\n",
    "Sinv[:2,:2] = np.diag(sinv)\n",
    "\n",
    "#Solution\n",
    "x = V.T.dot(Sinv).dot(U.T).dot(b)\n",
    "print(x)"
   ]
  }
 ],
 "metadata": {
  "kernelspec": {
   "display_name": "Python 3",
   "language": "python",
   "name": "python3"
  },
  "language_info": {
   "codemirror_mode": {
    "name": "ipython",
    "version": 3
   },
   "file_extension": ".py",
   "mimetype": "text/x-python",
   "name": "python",
   "nbconvert_exporter": "python",
   "pygments_lexer": "ipython3",
   "version": "3.8.1"
  }
 },
 "nbformat": 4,
 "nbformat_minor": 4
}
