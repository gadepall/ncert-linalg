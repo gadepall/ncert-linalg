{
 "cells": [
  {
   "cell_type": "markdown",
   "metadata": {},
   "source": [
    "##### ASSIGNMENT 1 : "
   ]
  },
  {
   "cell_type": "markdown",
   "metadata": {},
   "source": [
    "Find the angle between the vectors\n",
    "$\\begin{pmatrix}\n",
    "  1\\\\ \n",
    "  -2\\\\\n",
    "  3\n",
    "\\end{pmatrix}$ and  $\\begin{pmatrix}\n",
    "  3\\\\ \n",
    "  -2\\\\\n",
    "  1\n",
    "\\end{pmatrix}$"
   ]
  },
  {
   "cell_type": "markdown",
   "metadata": {},
   "source": [
    "__Solution__ : \n",
    "\n",
    "\n",
    "Let A = $\\begin{pmatrix}\n",
    "  1\\\\ \n",
    "  -2\\\\\n",
    "  3\n",
    "\\end{pmatrix}$ and B = $\\begin{pmatrix}\n",
    "  3\\\\ \n",
    "  -2\\\\\n",
    "  1\n",
    "\\end{pmatrix}$"
   ]
  },
  {
   "cell_type": "markdown",
   "metadata": {},
   "source": [
    "##### Python Code : "
   ]
  },
  {
   "cell_type": "code",
   "execution_count": 1,
   "metadata": {},
   "outputs": [
    {
     "name": "stdout",
     "output_type": "stream",
     "text": [
      "Angle Between two vectors A and B is given by : \n"
     ]
    },
    {
     "data": {
      "text/plain": [
       "44.415308597192976"
      ]
     },
     "execution_count": 1,
     "metadata": {},
     "output_type": "execute_result"
    }
   ],
   "source": [
    "import numpy as np \n",
    "import math\n",
    "A = [1,-2,3]\n",
    "B = [3,-2,1]\n",
    "unit_vector_A = A / np.linalg.norm(A)\n",
    "unit_vector_B = B/ np.linalg.norm(B)\n",
    "angle_between_A_and_B=math.degrees(np.arccos(np.dot(unit_vector_A,unit_vector_B)))\n",
    "print(\"Angle Between two vectors A and B is given by : \")\n",
    "angle_between_A_and_B"
   ]
  },
  {
   "cell_type": "code",
   "execution_count": null,
   "metadata": {},
   "outputs": [],
   "source": []
  }
 ],
 "metadata": {
  "kernelspec": {
   "display_name": "Python 3",
   "language": "python",
   "name": "python3"
  },
  "language_info": {
   "codemirror_mode": {
    "name": "ipython",
    "version": 3
   },
   "file_extension": ".py",
   "mimetype": "text/x-python",
   "name": "python",
   "nbconvert_exporter": "python",
   "pygments_lexer": "ipython3",
   "version": "3.7.3"
  }
 },
 "nbformat": 4,
 "nbformat_minor": 2
}
