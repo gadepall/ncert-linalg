{
 "cells": [
  {
   "cell_type": "code",
   "execution_count": 85,
   "metadata": {},
   "outputs": [
    {
     "name": "stdout",
     "output_type": "stream",
     "text": [
      "values of cosines of angles wrt axes is given as\n",
      "[ 6.12323400e-17 -7.07106781e-01  7.07106781e-01]\n",
      "Therefore Magnitude of the vector:\n",
      "1.0\n",
      "The value of unit vector m is [ 6.12323400e-17 -7.07106781e-01  7.07106781e-01]\n"
     ]
    }
   ],
   "source": [
    "#EE5609:Matrix Theory\n",
    "#Assignment 1 ( To find a unit vector that makes an angle of 90 degree,135 degree,45 degree with positive X,Y and Z axis respectively.)\n",
    "#points and Vectors(Prob.18)\n",
    "#Code by saurabh Joshi\n",
    "#Roll no: AI20MTECH13002\n",
    "\n",
    "import numpy as np\n",
    "import math\n",
    "\n",
    "#Given angles wrt axes:90degrees,135degrees,45degrees\n",
    "\n",
    "print(\"values of cosines of angles wrt axes is given as\")\n",
    "m=np.cos(np.array((90., 135., 45.)) * np.pi / 180.)\n",
    "print(m)\n",
    "print(\"Therefore Magnitude of the vector:\")\n",
    "print(np.linalg.norm(m))\n",
    "\n",
    "# Hence unit vector is m is \n",
    "m = m/(np.linalg.norm(m))\n",
    "print(\"The value of unit vector m is\", m)\n",
    "\n",
    "\n",
    "\n",
    "\n",
    "\n",
    "\n",
    "\n",
    "\n",
    "\n",
    "\n",
    "\n",
    "\n",
    "\n",
    "\n",
    "\n",
    " "
   ]
  },
  {
   "cell_type": "code",
   "execution_count": null,
   "metadata": {},
   "outputs": [],
   "source": []
  },
  {
   "cell_type": "code",
   "execution_count": null,
   "metadata": {},
   "outputs": [],
   "source": []
  },
  {
   "cell_type": "code",
   "execution_count": null,
   "metadata": {},
   "outputs": [],
   "source": []
  },
  {
   "cell_type": "code",
   "execution_count": null,
   "metadata": {},
   "outputs": [],
   "source": []
  }
 ],
 "metadata": {
  "kernelspec": {
   "display_name": "Python 3",
   "language": "python",
   "name": "python3"
  },
  "language_info": {
   "codemirror_mode": {
    "name": "ipython",
    "version": 3
   },
   "file_extension": ".py",
   "mimetype": "text/x-python",
   "name": "python",
   "nbconvert_exporter": "python",
   "pygments_lexer": "ipython3",
   "version": "3.8.3"
  }
 },
 "nbformat": 4,
 "nbformat_minor": 4
}
