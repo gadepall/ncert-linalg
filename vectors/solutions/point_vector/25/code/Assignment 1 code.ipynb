{
 "cells": [
  {
   "cell_type": "code",
   "execution_count": 21,
   "metadata": {},
   "outputs": [],
   "source": [
    "import numpy as np\n",
    "import math"
   ]
  },
  {
   "cell_type": "code",
   "execution_count": 26,
   "metadata": {},
   "outputs": [
    {
     "name": "stdout",
     "output_type": "stream",
     "text": [
      "The unit vector that makes an angle of 30 degrees to x axis is:\n",
      "[0.8660254 0.5      ]\n"
     ]
    }
   ],
   "source": [
    "#inclination angle: 30 degrees\n",
    "theta = math.pi/6\n",
    "#finding slope\n",
    "slope = math.tan(theta)\n",
    "#finding direction vector\n",
    "direction_vec = [1, slope]\n",
    "#magnitude of direction vector\n",
    "mag_direction_vec = np.linalg.norm(direction_vec)\n",
    "#computing unit vector\n",
    "unit_vec = direction_vec/mag_direction_vec\n",
    "print(\"The unit vector that makes an angle of 30 degrees to x axis is:\")\n",
    "print(unit_vec)"
   ]
  },
  {
   "cell_type": "code",
   "execution_count": 31,
   "metadata": {},
   "outputs": [
    {
     "name": "stdout",
     "output_type": "stream",
     "text": [
      "The norm of resultant vector is: 1.0\n",
      "This shows it is a unit vector.\n"
     ]
    }
   ],
   "source": [
    "#Verification:\n",
    "print(\"The norm of resultant vector is:\", np.linalg.norm(unit_vec))\n",
    "\n",
    "print(\"This shows it is a unit vector.\")"
   ]
  }
 ],
 "metadata": {
  "kernelspec": {
   "display_name": "Python 3",
   "language": "python",
   "name": "python3"
  },
  "language_info": {
   "codemirror_mode": {
    "name": "ipython",
    "version": 3
   },
   "file_extension": ".py",
   "mimetype": "text/x-python",
   "name": "python",
   "nbconvert_exporter": "python",
   "pygments_lexer": "ipython3",
   "version": "3.8.1"
  }
 },
 "nbformat": 4,
 "nbformat_minor": 4
}
