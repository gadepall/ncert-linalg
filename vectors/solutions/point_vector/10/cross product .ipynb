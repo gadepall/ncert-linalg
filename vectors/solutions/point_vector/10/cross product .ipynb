{
 "cells": [
  {
   "cell_type": "code",
   "execution_count": null,
   "metadata": {},
   "outputs": [
    {
     "name": "stdout",
     "output_type": "stream",
     "text": [
      "[ 1 -7  7]\n",
      "[ 3 -2  2]\n",
      "cross product of two vectors a and b is :\n",
      "[ 0 19 19]\n"
     ]
    }
   ],
   "source": [
    "#numpy : cross product of  two vectors \n",
    "import numpy as np\n",
    "a = np.array([1,-7,7])\n",
    "print (a)\n",
    "b = np.array([3,-2,2])\n",
    "print (b)\n",
    "c = np.cross(a,b)\n",
    "print ('cross product of two vectors a and b is :')\n",
    "print (c)\n"
   ]
  },
  {
   "cell_type": "code",
   "execution_count": null,
   "metadata": {},
   "outputs": [],
   "source": []
  }
 ],
 "metadata": {
  "kernelspec": {
   "display_name": "Python 2",
   "language": "python",
   "name": "python2"
  },
  "language_info": {
   "codemirror_mode": {
    "name": "ipython",
    "version": 2
   },
   "file_extension": ".py",
   "mimetype": "text/x-python",
   "name": "python",
   "nbconvert_exporter": "python",
   "pygments_lexer": "ipython2",
   "version": "2.7.15"
  }
 },
 "nbformat": 4,
 "nbformat_minor": 2
}
