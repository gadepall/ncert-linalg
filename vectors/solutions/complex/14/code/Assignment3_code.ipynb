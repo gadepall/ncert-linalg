{
 "cells": [
  {
   "cell_type": "code",
   "execution_count": 1,
   "metadata": {},
   "outputs": [
    {
     "name": "stdout",
     "output_type": "stream",
     "text": [
      "The complex number is  [-0.5  0.5]\n",
      "The modulus of complex number is  0.7071067811865476\n",
      "The argument of complex number is  135.0 degrees\n"
     ]
    }
   ],
   "source": [
    "import numpy as np\n",
    "import matplotlib.pyplot as plt\n",
    "\n",
    "import math\n",
    "import cmath\n",
    "#complex no 1 => 1+2i\n",
    "r1=1\n",
    "i1=2\n",
    "#complex no 2 => 1-3i\n",
    "r2 = 1\n",
    "i2 = -3\n",
    "D1 = np.array([1,0])\n",
    "matrix1 = np.array([[r1,-i1],[i1,r1]])\n",
    "matrix2 = np.array([[r2,-i2],[i2,r2]])\n",
    "matrix2_inv=np.linalg.inv(matrix2)\n",
    "complex_no_result = np.matmul(matrix1,np.matmul(matrix2_inv,D1))\n",
    "print('The complex number is ', complex_no_result)\n",
    "print('The modulus of complex number is ',np.linalg.norm(complex_no_result, 2))\n",
    "print('The argument of complex number is ',  np.degrees(cmath.phase(-0.5+0.5j)), 'degrees')"
   ]
  }
 ],
 "metadata": {
  "kernelspec": {
   "display_name": "Python 3",
   "language": "python",
   "name": "python3"
  },
  "language_info": {
   "codemirror_mode": {
    "name": "ipython",
    "version": 3
   },
   "file_extension": ".py",
   "mimetype": "text/x-python",
   "name": "python",
   "nbconvert_exporter": "python",
   "pygments_lexer": "ipython3",
   "version": "3.8.1"
  }
 },
 "nbformat": 4,
 "nbformat_minor": 4
}
